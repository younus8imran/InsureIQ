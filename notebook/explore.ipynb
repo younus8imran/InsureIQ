{
 "cells": [
  {
   "cell_type": "code",
   "execution_count": 36,
   "id": "21a69a49",
   "metadata": {},
   "outputs": [],
   "source": [
    "import os \n",
    "import glob\n",
    "\n",
    "import numpy as np \n",
    "import pandas as pd \n",
    "import matplotlib.pyplot as plt \n",
    "\n",
    "import seaborn as sns\n",
    "\n",
    "import joblib\n",
    "\n",
    "from sklearn.model_selection import train_test_split, GridSearchCV\n",
    "from sklearn.pipeline import Pipeline\n",
    "from sklearn.compose import ColumnTransformer\n",
    "from sklearn.preprocessing import OneHotEncoder, StandardScaler\n",
    "from sklearn.metrics import root_mean_squared_error, mean_absolute_error, r2_score\n",
    "from sklearn.linear_model import LinearRegression, Ridge, Lasso, ElasticNet\n",
    "from sklearn.ensemble import RandomForestRegressor\n",
    "\n",
    "import xgboost as xgb\n",
    "\n",
    "import mlflow \n",
    "import mlflow.sklearn"
   ]
  },
  {
   "cell_type": "code",
   "execution_count": 40,
   "id": "aa8ca8b5",
   "metadata": {},
   "outputs": [],
   "source": [
    "data = {\n",
    "  \"age\": 39,\n",
    "  \"sex\": \"male\",\n",
    "  \"bmi\": 34.3,\n",
    "  \"children\": 4,\n",
    "  \"smoker\": \"yes\",\n",
    "  \"region\": \"northwest\"\n",
    "}\n",
    "df = pd.DataFrame([data])"
   ]
  },
  {
   "cell_type": "code",
   "execution_count": 41,
   "id": "3116f794",
   "metadata": {},
   "outputs": [
    {
     "data": {
      "text/plain": [
       "array([34967.66786834])"
      ]
     },
     "execution_count": 41,
     "metadata": {},
     "output_type": "execute_result"
    }
   ],
   "source": [
    "BEST_MODEL_DIR = '../artifacts/best_model'\n",
    "\n",
    "MODEL_PATH = glob.glob(os.path.join(BEST_MODEL_DIR, \"*.joblib\"))[0]\n",
    "\n",
    "pipeline = joblib.load(MODEL_PATH)\n",
    "pipeline.predict(df)"
   ]
  }
 ],
 "metadata": {
  "kernelspec": {
   "display_name": "venv",
   "language": "python",
   "name": "python3"
  },
  "language_info": {
   "codemirror_mode": {
    "name": "ipython",
    "version": 3
   },
   "file_extension": ".py",
   "mimetype": "text/x-python",
   "name": "python",
   "nbconvert_exporter": "python",
   "pygments_lexer": "ipython3",
   "version": "3.13.3"
  }
 },
 "nbformat": 4,
 "nbformat_minor": 5
}
